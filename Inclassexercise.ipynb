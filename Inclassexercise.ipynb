{
 "cells": [
  {
   "cell_type": "code",
   "execution_count": 1,
   "id": "e5a0b410-2efd-4832-90f3-85dc59763bbf",
   "metadata": {
    "tags": []
   },
   "outputs": [],
   "source": [
    "def maxvalue(alist):\n",
    "    v = alist[0]\n",
    "    for k in alist:\n",
    "        if k >= v:\n",
    "            v = k\n",
    "    return v"
   ]
  },
  {
   "cell_type": "code",
   "execution_count": 2,
   "id": "e6fad178-2e77-45e8-b008-7e2a6e83167b",
   "metadata": {
    "tags": []
   },
   "outputs": [],
   "source": [
    "alist = [1, 12, 3, 6, 4]"
   ]
  },
  {
   "cell_type": "code",
   "execution_count": 4,
   "id": "6ca5fdd5-d0fc-4603-9d4e-515eb920266f",
   "metadata": {
    "tags": []
   },
   "outputs": [
    {
     "data": {
      "text/plain": [
       "12"
      ]
     },
     "execution_count": 4,
     "metadata": {},
     "output_type": "execute_result"
    }
   ],
   "source": [
    "maxvalue(alist)"
   ]
  },
  {
   "cell_type": "code",
   "execution_count": null,
   "id": "a91d4b7c-8db2-403b-8c2f-6c52ccfcac3c",
   "metadata": {},
   "outputs": [],
   "source": []
  }
 ],
 "metadata": {
  "kernelspec": {
   "display_name": "Python 3 (ipykernel)",
   "language": "python",
   "name": "python3"
  },
  "language_info": {
   "codemirror_mode": {
    "name": "ipython",
    "version": 3
   },
   "file_extension": ".py",
   "mimetype": "text/x-python",
   "name": "python",
   "nbconvert_exporter": "python",
   "pygments_lexer": "ipython3",
   "version": "3.10.9"
  }
 },
 "nbformat": 4,
 "nbformat_minor": 5
}
