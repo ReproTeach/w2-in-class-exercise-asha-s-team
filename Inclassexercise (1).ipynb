{
 "cells": [
  {
   "cell_type": "code",
   "execution_count": 1,
   "id": "e5a0b410-2efd-4832-90f3-85dc59763bbf",
   "metadata": {
    "tags": []
   },
   "outputs": [],
   "source": [
    "def maxvalue(alist):\n",
    "    v = alist[0]\n",
    "    for k in alist:\n",
    "        if k >= v:\n",
    "            v = k\n",
    "    return v"
   ]
  },
  {
   "cell_type": "code",
   "execution_count": 2,
   "id": "e6fad178-2e77-45e8-b008-7e2a6e83167b",
   "metadata": {
    "tags": []
   },
   "outputs": [],
   "source": [
    "alist = [1, 12, 3, 6, 4]"
   ]
  },
  {
   "cell_type": "code",
   "execution_count": 4,
   "id": "6ca5fdd5-d0fc-4603-9d4e-515eb920266f",
   "metadata": {
    "tags": []
   },
   "outputs": [
    {
     "data": {
      "text/plain": [
       "12"
      ]
     },
     "execution_count": 4,
     "metadata": {},
     "output_type": "execute_result"
    }
   ],
   "source": [
    "maxvalue(alist)"
   ]
  },
  {
   "cell_type": "code",
   "execution_count": 5,
   "id": "a91d4b7c-8db2-403b-8c2f-6c52ccfcac3c",
   "metadata": {
    "tags": []
   },
   "outputs": [],
   "source": [
    "blist = [7, 14, 68, 2, 1]"
   ]
  },
  {
   "cell_type": "code",
   "execution_count": 6,
   "id": "ce7fa851-5607-4936-8cc3-2b33050cb952",
   "metadata": {
    "tags": []
   },
   "outputs": [
    {
     "data": {
      "text/plain": [
       "68"
      ]
     },
     "execution_count": 6,
     "metadata": {},
     "output_type": "execute_result"
    }
   ],
   "source": [
    "maxvalue(alist=blist)"
   ]
  },
  {
   "cell_type": "code",
   "execution_count": 7,
   "id": "355f7e3d-c3b6-4f6a-b08d-f00d24de83c1",
   "metadata": {
    "tags": []
   },
   "outputs": [],
   "source": [
    "#Asha Jotwani, Courtney Collins, Nayeon Bae"
   ]
  },
  {
   "cell_type": "code",
   "execution_count": null,
   "id": "59c3a935-0d39-41d5-aea4-386f4c0bf766",
   "metadata": {},
   "outputs": [],
   "source": []
  }
 ],
 "metadata": {
  "kernelspec": {
   "display_name": "Python 3 (ipykernel)",
   "language": "python",
   "name": "python3"
  },
  "language_info": {
   "codemirror_mode": {
    "name": "ipython",
    "version": 3
   },
   "file_extension": ".py",
   "mimetype": "text/x-python",
   "name": "python",
   "nbconvert_exporter": "python",
   "pygments_lexer": "ipython3",
   "version": "3.10.9"
  }
 },
 "nbformat": 4,
 "nbformat_minor": 5
}
